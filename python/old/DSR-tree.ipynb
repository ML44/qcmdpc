{
 "cells": [
  {
   "cell_type": "code",
   "execution_count": 1,
   "metadata": {
    "collapsed": true
   },
   "outputs": [],
   "source": [
    "import random\n",
    "def generate_h(p,w):\n",
    "    h = [0]\n",
    "    while len(h)<w:\n",
    "        k = random.randint(0,p-1)\n",
    "        while(k in h):\n",
    "            k = random.randint(0,p-1)\n",
    "        h.append(k)\n",
    "    h.sort()\n",
    "    return h"
   ]
  },
  {
   "cell_type": "code",
   "execution_count": 2,
   "metadata": {
    "collapsed": true
   },
   "outputs": [],
   "source": [
    "def get_spectrum(h,p):\n",
    "    s = [0]*p\n",
    "    for i in h:\n",
    "        for j in h:\n",
    "            s[(i-j) % p]=1\n",
    "    return s"
   ]
  },
  {
   "cell_type": "code",
   "execution_count": 89,
   "metadata": {
    "collapsed": false
   },
   "outputs": [],
   "source": [
    "def dsr(spectrum,key,atester,w):\n",
    "    print(\"=================START================\")\n",
    "    print(key)\n",
    "    print(atester)\n",
    "    if len(key)==w:\n",
    "        print(key)\n",
    "        return 1\n",
    "    for k in atester:\n",
    "        print(\"Testing \"+str(k))\n",
    "        b = True\n",
    "        for i in key[1:]:\n",
    "            print(\"\\tIsDist \"+str(i))\n",
    "            print(\"\\t\\tDist = \"+str(abs(k-i)))\n",
    "            if spectrum[abs(k-i)]==0:\n",
    "                print(\"\\t\\tNO\")\n",
    "                b = False\n",
    "                break\n",
    "            else:\n",
    "                print(\"\\t\\tYES\")\n",
    "        if b:\n",
    "            key.append(k)\n",
    "            atester.remove(k)\n",
    "            i = (dsr(spectrum,key,atester,w))\n",
    "            key.remove(k)\n",
    "    print(\"==================END=================\")\n",
    "    return 0"
   ]
  },
  {
   "cell_type": "code",
   "execution_count": 85,
   "metadata": {
    "collapsed": true
   },
   "outputs": [],
   "source": [
    "def dsr_tot(spectrum,w):\n",
    "    atester = []\n",
    "    for i in range(1,len(spectrum)):\n",
    "        if spectrum[i]==1:\n",
    "            atester.append(i)\n",
    "    p1 = atester[0]\n",
    "    key = [0,p1]\n",
    "    atester.remove(p1)\n",
    "    return (dsr(spectrum,key,atester,w))"
   ]
  },
  {
   "cell_type": "code",
   "execution_count": 70,
   "metadata": {
    "collapsed": true
   },
   "outputs": [],
   "source": [
    "h0 = generate_h(20,4)"
   ]
  },
  {
   "cell_type": "code",
   "execution_count": 71,
   "metadata": {
    "collapsed": false
   },
   "outputs": [
    {
     "data": {
      "text/plain": [
       "[0, 7, 12, 16]"
      ]
     },
     "execution_count": 71,
     "metadata": {},
     "output_type": "execute_result"
    }
   ],
   "source": [
    "h0"
   ]
  },
  {
   "cell_type": "code",
   "execution_count": 72,
   "metadata": {
    "collapsed": false
   },
   "outputs": [],
   "source": [
    "s0 = get_spectrum(h0,20)"
   ]
  },
  {
   "cell_type": "code",
   "execution_count": 73,
   "metadata": {
    "collapsed": false
   },
   "outputs": [
    {
     "data": {
      "text/plain": [
       "[1, 0, 0, 0, 1, 1, 0, 1, 1, 1, 0, 1, 1, 1, 0, 1, 1, 0, 0, 0]"
      ]
     },
     "execution_count": 73,
     "metadata": {},
     "output_type": "execute_result"
    }
   ],
   "source": [
    "s0"
   ]
  },
  {
   "cell_type": "code",
   "execution_count": 90,
   "metadata": {
    "collapsed": false
   },
   "outputs": [
    {
     "name": "stdout",
     "output_type": "stream",
     "text": [
      "=================START================\n",
      "[0, 4]\n",
      "[5, 7, 8, 9, 11, 12, 13, 15, 16]\n",
      "Testing 5\n",
      "\tIsDist 4\n",
      "\t\tDist = 1\n",
      "\t\tNO\n",
      "Testing 7\n",
      "\tIsDist 4\n",
      "\t\tDist = 3\n",
      "\t\tNO\n",
      "Testing 8\n",
      "\tIsDist 4\n",
      "\t\tDist = 4\n",
      "\t\tYES\n",
      "=================START================\n",
      "[0, 4, 8]\n",
      "[5, 7, 9, 11, 12, 13, 15, 16]\n",
      "Testing 5\n",
      "\tIsDist 4\n",
      "\t\tDist = 1\n",
      "\t\tNO\n",
      "Testing 7\n",
      "\tIsDist 4\n",
      "\t\tDist = 3\n",
      "\t\tNO\n",
      "Testing 9\n",
      "\tIsDist 4\n",
      "\t\tDist = 5\n",
      "\t\tYES\n",
      "\tIsDist 8\n",
      "\t\tDist = 1\n",
      "\t\tNO\n",
      "Testing 11\n",
      "\tIsDist 4\n",
      "\t\tDist = 7\n",
      "\t\tYES\n",
      "\tIsDist 8\n",
      "\t\tDist = 3\n",
      "\t\tNO\n",
      "Testing 12\n",
      "\tIsDist 4\n",
      "\t\tDist = 8\n",
      "\t\tYES\n",
      "\tIsDist 8\n",
      "\t\tDist = 4\n",
      "\t\tYES\n",
      "=================START================\n",
      "[0, 4, 8, 12]\n",
      "[5, 7, 9, 11, 13, 15, 16]\n",
      "[0, 4, 8, 12]\n",
      "Testing 15\n",
      "\tIsDist 4\n",
      "\t\tDist = 11\n",
      "\t\tYES\n",
      "\tIsDist 8\n",
      "\t\tDist = 7\n",
      "\t\tYES\n",
      "=================START================\n",
      "[0, 4, 8, 15]\n",
      "[5, 7, 9, 11, 13, 16]\n",
      "[0, 4, 8, 15]\n",
      "==================END=================\n",
      "Testing 11\n",
      "\tIsDist 4\n",
      "\t\tDist = 7\n",
      "\t\tYES\n",
      "=================START================\n",
      "[0, 4, 11]\n",
      "[5, 7, 9, 13, 16]\n",
      "Testing 5\n",
      "\tIsDist 4\n",
      "\t\tDist = 1\n",
      "\t\tNO\n",
      "Testing 7\n",
      "\tIsDist 4\n",
      "\t\tDist = 3\n",
      "\t\tNO\n",
      "Testing 9\n",
      "\tIsDist 4\n",
      "\t\tDist = 5\n",
      "\t\tYES\n",
      "\tIsDist 11\n",
      "\t\tDist = 2\n",
      "\t\tNO\n",
      "Testing 13\n",
      "\tIsDist 4\n",
      "\t\tDist = 9\n",
      "\t\tYES\n",
      "\tIsDist 11\n",
      "\t\tDist = 2\n",
      "\t\tNO\n",
      "Testing 16\n",
      "\tIsDist 4\n",
      "\t\tDist = 12\n",
      "\t\tYES\n",
      "\tIsDist 11\n",
      "\t\tDist = 5\n",
      "\t\tYES\n",
      "=================START================\n",
      "[0, 4, 11, 16]\n",
      "[5, 7, 9, 13]\n",
      "[0, 4, 11, 16]\n",
      "==================END=================\n",
      "==================END=================\n"
     ]
    },
    {
     "data": {
      "text/plain": [
       "0"
      ]
     },
     "execution_count": 90,
     "metadata": {},
     "output_type": "execute_result"
    }
   ],
   "source": [
    "dsr_tot(s0,4)"
   ]
  },
  {
   "cell_type": "code",
   "execution_count": null,
   "metadata": {
    "collapsed": true
   },
   "outputs": [],
   "source": []
  }
 ],
 "metadata": {
  "kernelspec": {
   "display_name": "Python 3",
   "language": "python",
   "name": "python3"
  },
  "language_info": {
   "codemirror_mode": {
    "name": "ipython",
    "version": 3
   },
   "file_extension": ".py",
   "mimetype": "text/x-python",
   "name": "python",
   "nbconvert_exporter": "python",
   "pygments_lexer": "ipython3",
   "version": "3.6.0"
  }
 },
 "nbformat": 4,
 "nbformat_minor": 2
}
