{
 "cells": [
  {
   "cell_type": "markdown",
   "metadata": {},
   "source": [
    "# Reconstruction du spectre\n",
    "\n",
    "Selon l'algorithme décrit dans le second papier de Guo et al."
   ]
  },
  {
   "cell_type": "markdown",
   "metadata": {},
   "source": [
    "## Algorithmes"
   ]
  },
  {
   "cell_type": "markdown",
   "metadata": {},
   "source": [
    "### General tools"
   ]
  },
  {
   "cell_type": "code",
   "execution_count": 1,
   "metadata": {
    "collapsed": true
   },
   "outputs": [],
   "source": [
    "import random\n",
    "def generate_h(p,w):\n",
    "    h = [0]\n",
    "    while len(h)<w:\n",
    "        k = random.randint(0,p-1)\n",
    "        while(k in h):\n",
    "            k = random.randint(0,p-1)\n",
    "        h.append(k)\n",
    "    h.sort()\n",
    "    return h"
   ]
  },
  {
   "cell_type": "code",
   "execution_count": 2,
   "metadata": {
    "collapsed": true
   },
   "outputs": [],
   "source": [
    "def get_spectrum(h,p):\n",
    "    s = [0]*p\n",
    "    for i in h:\n",
    "        for j in h:\n",
    "            s[(i-j) % p]=1\n",
    "    return s"
   ]
  },
  {
   "cell_type": "markdown",
   "metadata": {},
   "source": [
    "### Bron Kerbosch"
   ]
  },
  {
   "cell_type": "code",
   "execution_count": 3,
   "metadata": {
    "collapsed": true
   },
   "outputs": [],
   "source": [
    "def get_neighbours(v,S,spectrum):\n",
    "    n = []\n",
    "    for i in S:\n",
    "        if i!=v and spectrum[abs(i-v)] :\n",
    "            n.append(i)\n",
    "    return(set(n))"
   ]
  },
  {
   "cell_type": "code",
   "execution_count": 4,
   "metadata": {
    "collapsed": true
   },
   "outputs": [],
   "source": [
    "def bron_kerbosch(S, spectrum, clique, candidates, excluded, maxweight):\n",
    "    if len(clique)>=maxweight:\n",
    "        return clique\n",
    " \n",
    "    #Naive Bron–Kerbosch algorithm\n",
    "    if not candidates and not excluded:\n",
    "        return []\n",
    " \n",
    "    for v in list(candidates):\n",
    "        n = get_neighbours(v,S,spectrum)\n",
    "        new_candidates = candidates.intersection(n)\n",
    "        new_excluded = excluded.intersection(n)\n",
    "        result = bron_kerbosch(S, spectrum, clique + [v], new_candidates, new_excluded, maxweight)\n",
    "        if len(result)>0:\n",
    "            return result\n",
    "        candidates.remove(v)\n",
    "        excluded.add(v)\n",
    "    return []"
   ]
  },
  {
   "cell_type": "markdown",
   "metadata": {},
   "source": [
    "### Tools for DSR"
   ]
  },
  {
   "cell_type": "code",
   "execution_count": 5,
   "metadata": {
    "collapsed": true
   },
   "outputs": [],
   "source": [
    "def get_p1(spectrum):\n",
    "    p1 = 1\n",
    "    while (spectrum[p1]==0) :\n",
    "        p1+=1\n",
    "    return p1"
   ]
  },
  {
   "cell_type": "code",
   "execution_count": 6,
   "metadata": {
    "collapsed": false
   },
   "outputs": [],
   "source": [
    "def construct_A(spectrum,p1):\n",
    "    A = []\n",
    "    for i in range(p1+1, len(spectrum)) :\n",
    "        if spectrum[i] and spectrum[i-p1]:\n",
    "            A.append(i)\n",
    "    return A"
   ]
  },
  {
   "cell_type": "code",
   "execution_count": 7,
   "metadata": {
    "collapsed": true
   },
   "outputs": [],
   "source": [
    "def construct_B(spectrum, A, p2):\n",
    "    B = []\n",
    "    for i in A:\n",
    "        if i!=p2 and spectrum[i-p2]:\n",
    "            B.append(i)\n",
    "    return B"
   ]
  },
  {
   "cell_type": "code",
   "execution_count": 8,
   "metadata": {
    "collapsed": true
   },
   "outputs": [],
   "source": [
    "def get_cliques(C, spectrum, weight):\n",
    "    if len(C)>=weight:\n",
    "        cliques = bron_kerbosch(C, spectrum, [], set(C), set([]), [], weight)\n",
    "        l = []\n",
    "        for c in cliques:\n",
    "            c.sort()\n",
    "            if not (c in l):\n",
    "                l.append(c)\n",
    "    return l"
   ]
  },
  {
   "cell_type": "markdown",
   "metadata": {},
   "source": [
    "### DSR algorithm"
   ]
  },
  {
   "cell_type": "code",
   "execution_count": 9,
   "metadata": {
    "collapsed": false
   },
   "outputs": [],
   "source": [
    "def dsr(spectrum, weight, cliquesize):\n",
    "    # 0. Identify p1\n",
    "    p1 = get_p1(spectrum)\n",
    "    # 1. Identify 3-cliques\n",
    "    A = construct_A(spectrum, p1)\n",
    "    # 2. Combine 3-cliques\n",
    "    E = []\n",
    "    for p2 in A:\n",
    "        B = construct_B(spectrum, A, p2)\n",
    "        C = [0,p1,p2]\n",
    "        C.extend(B)\n",
    "        C.sort() # Useless and time consuming ?\n",
    "        #print(\"p2 = \"+str(p2)+\" --> C =\"+str(C))\n",
    "        b = True\n",
    "        while len(C)>=weight and b :\n",
    "            for i in C:\n",
    "                c = 0\n",
    "                for j in C:\n",
    "                    if spectrum[abs(j-i)]:\n",
    "                        c+=1\n",
    "                if c<weight:\n",
    "                    C.remove(i)\n",
    "                    break\n",
    "                if i == C[-1]:\n",
    "                    b = False\n",
    "        if not(b):\n",
    "            E.append(C)\n",
    "    # 3. F = cliques of E if elements of E are too large\n",
    "    F = []\n",
    "    for S in E:\n",
    "        K = get_cliques(S, spectrum, cliquesize)\n",
    "        for k in K:\n",
    "            if not(k in F):\n",
    "                F.append(k)\n",
    "    return F"
   ]
  },
  {
   "cell_type": "markdown",
   "metadata": {},
   "source": [
    "## Tests"
   ]
  },
  {
   "cell_type": "code",
   "execution_count": 53,
   "metadata": {
    "collapsed": false
   },
   "outputs": [],
   "source": [
    "def translation_index(h,p,p1):\n",
    "    for i in range(len(h)-1):\n",
    "        if h[i+1]-h[i] == p1:\n",
    "            return i\n",
    "    if h[0]+p-h[-1]==p1:\n",
    "        return len(h)-1\n",
    "    return -1"
   ]
  },
  {
   "cell_type": "code",
   "execution_count": 66,
   "metadata": {
    "collapsed": true
   },
   "outputs": [],
   "source": [
    "def translation(h,p,p1):\n",
    "    k = translation_index(h,p,p1)\n",
    "    ht = []\n",
    "    val = h[k]\n",
    "    for i in range(len(h)):\n",
    "        nhk = (h[k]-val)%p\n",
    "        ht.append(nhk)\n",
    "        k = (k+1) % len(h)\n",
    "    return ht"
   ]
  },
  {
   "cell_type": "code",
   "execution_count": 79,
   "metadata": {
    "collapsed": false
   },
   "outputs": [],
   "source": [
    "def test_kb(p,weight,N,cliquesize):\n",
    "    for i in range(N):\n",
    "        h = generate_h(p,weight)\n",
    "        print(h)\n",
    "        spectrum = get_spectrum(h,p)\n",
    "#        print(spectrum)\n",
    "        candidates = []\n",
    "        for i in range(p):\n",
    "            if (spectrum[i]):\n",
    "                candidates.append(i)\n",
    "        p1 = get_p1(spectrum)\n",
    "        h_translation = translation(h,p,p1)\n",
    "        print(h_translation)\n",
    "        A = construct_A(spectrum, p1)\n",
    "        l = bron_kerbosch(range(p), spectrum, [0,p1], set(A), set([]), cliquesize)\n",
    "        l.sort()\n",
    "        print(l)\n",
    "        spectrum_l = get_spectrum(l,p)\n",
    "#        print(spectrum_l)\n",
    "        reconstruct = [8]*p\n",
    "        for i in range(len(l)):\n",
    "            reconstruct[l[i]]=1\n",
    "            for j in range(p):\n",
    "                if spectrum[j]==0:\n",
    "                    reconstruct[(l[i]+j)%p]=0\n",
    "                    reconstruct[(l[i]-j)%p]=0\n",
    "        \n",
    "        spectrum_verif = get_spectrum(l,p)\n",
    "        b = True\n",
    "        for i in range(p):\n",
    "            if spectrum_verif[i] and not(spectrum[i]):\n",
    "                b = False\n",
    "                break\n",
    "        print(b)\n",
    "        \n",
    "#        print(reconstruct)\n",
    "        print(\"\\n=====================\\n\")"
   ]
  },
  {
   "cell_type": "code",
   "execution_count": 82,
   "metadata": {
    "collapsed": false
   },
   "outputs": [
    {
     "name": "stdout",
     "output_type": "stream",
     "text": [
      "[0, 201, 339, 405, 468, 559, 639, 652, 737, 985, 1010, 1223, 1265, 1379, 1561, 1735, 1852, 1857, 1914, 2028, 2063, 2380, 2757, 2817, 2841, 2896, 2951, 3085, 3115, 3123, 3158, 3304, 3324, 3385, 3602, 3694, 3783, 3928, 3945, 4006, 4067, 4167, 4226, 4302, 4786]\n",
      "[0, 5, 62, 176, 211, 528, 905, 965, 989, 1044, 1099, 1233, 1263, 1271, 1306, 1452, 1472, 1533, 1750, 1842, 1931, 2076, 2093, 2154, 2215, 2315, 2374, 2450, 2934, 2949, 3150, 3288, 3354, 3417, 3508, 3588, 3601, 3686, 3934, 3959, 4172, 4214, 4328, 4510, 4684]\n",
      "[0, 5, 20, 579, 1005, 1755, 1872, 2048, 2083, 2400, 3135, 3143, 3178, 3324, 3405, 3622, 3714, 3803, 3948, 4322]\n",
      "True\n",
      "\n",
      "=====================\n",
      "\n"
     ]
    }
   ],
   "source": [
    "test_kb(4801,45,1,20)"
   ]
  },
  {
   "cell_type": "code",
   "execution_count": 25,
   "metadata": {
    "collapsed": false
   },
   "outputs": [
    {
     "data": {
      "text/plain": [
       "130"
      ]
     },
     "execution_count": 25,
     "metadata": {},
     "output_type": "execute_result"
    }
   ],
   "source": [
    "192-62"
   ]
  },
  {
   "cell_type": "code",
   "execution_count": 70,
   "metadata": {
    "collapsed": false
   },
   "outputs": [
    {
     "data": {
      "text/plain": [
       "3976"
      ]
     },
     "execution_count": 70,
     "metadata": {},
     "output_type": "execute_result"
    }
   ],
   "source": [
    "5000-1024"
   ]
  },
  {
   "cell_type": "code",
   "execution_count": 1,
   "metadata": {
    "collapsed": false
   },
   "outputs": [
    {
     "data": {
      "text/plain": [
       "990"
      ]
     },
     "execution_count": 1,
     "metadata": {},
     "output_type": "execute_result"
    }
   ],
   "source": [
    "45*22"
   ]
  },
  {
   "cell_type": "code",
   "execution_count": 4,
   "metadata": {
    "collapsed": false
   },
   "outputs": [
    {
     "data": {
      "text/plain": [
       "8.476579508530941"
      ]
     },
     "execution_count": 4,
     "metadata": {},
     "output_type": "execute_result"
    }
   ],
   "source": [
    "import numpy as np\n",
    "np.log(4801)"
   ]
  },
  {
   "cell_type": "code",
   "execution_count": 5,
   "metadata": {
    "collapsed": false
   },
   "outputs": [
    {
     "data": {
      "text/plain": [
       "4"
      ]
     },
     "execution_count": 5,
     "metadata": {},
     "output_type": "execute_result"
    }
   ],
   "source": [
    "2+2"
   ]
  },
  {
   "cell_type": "code",
   "execution_count": 10,
   "metadata": {
    "collapsed": false
   },
   "outputs": [],
   "source": [
    "p = 45*44/(4801*2)"
   ]
  },
  {
   "cell_type": "code",
   "execution_count": 19,
   "metadata": {
    "collapsed": false
   },
   "outputs": [
    {
     "data": {
      "text/plain": [
       "5.3687479007371737"
      ]
     },
     "execution_count": 19,
     "metadata": {},
     "output_type": "execute_result"
    }
   ],
   "source": [
    "np.log(4801)/np.log(1/p)"
   ]
  },
  {
   "cell_type": "code",
   "execution_count": 16,
   "metadata": {
    "collapsed": false
   },
   "outputs": [
    {
     "data": {
      "text/plain": [
       "0.20620704019995834"
      ]
     },
     "execution_count": 16,
     "metadata": {},
     "output_type": "execute_result"
    }
   ],
   "source": [
    "44*45/(2*4801)"
   ]
  },
  {
   "cell_type": "code",
   "execution_count": 17,
   "metadata": {
    "collapsed": false
   },
   "outputs": [
    {
     "data": {
      "text/plain": [
       "0.20620704019995834"
      ]
     },
     "execution_count": 17,
     "metadata": {},
     "output_type": "execute_result"
    }
   ],
   "source": [
    "p"
   ]
  },
  {
   "cell_type": "code",
   "execution_count": 18,
   "metadata": {
    "collapsed": false
   },
   "outputs": [
    {
     "data": {
      "text/plain": [
       "990.0"
      ]
     },
     "execution_count": 18,
     "metadata": {},
     "output_type": "execute_result"
    }
   ],
   "source": [
    "44*45/2"
   ]
  },
  {
   "cell_type": "code",
   "execution_count": 20,
   "metadata": {
    "collapsed": true
   },
   "outputs": [],
   "source": [
    "import sympy"
   ]
  },
  {
   "cell_type": "code",
   "execution_count": 27,
   "metadata": {
    "collapsed": false
   },
   "outputs": [
    {
     "data": {
      "text/plain": [
       "0.000515965727955507"
      ]
     },
     "execution_count": 27,
     "metadata": {},
     "output_type": "execute_result"
    }
   ],
   "source": [
    "sympy.binomial(4801,9)*(p**(5*9))"
   ]
  },
  {
   "cell_type": "code",
   "execution_count": 31,
   "metadata": {
    "collapsed": false
   },
   "outputs": [
    {
     "data": {
      "text/plain": [
       "0.36910730273910486"
      ]
     },
     "execution_count": 31,
     "metadata": {},
     "output_type": "execute_result"
    }
   ],
   "source": [
    "4801*(p**6)"
   ]
  },
  {
   "cell_type": "code",
   "execution_count": 33,
   "metadata": {
    "collapsed": false
   },
   "outputs": [
    {
     "data": {
      "text/plain": [
       "27.838459164932694"
      ]
     },
     "execution_count": 33,
     "metadata": {},
     "output_type": "execute_result"
    }
   ],
   "source": [
    "np.log(2400*100000)/np.log(2)"
   ]
  },
  {
   "cell_type": "code",
   "execution_count": null,
   "metadata": {
    "collapsed": true
   },
   "outputs": [],
   "source": []
  }
 ],
 "metadata": {
  "kernelspec": {
   "display_name": "Python 3",
   "language": "python",
   "name": "python3"
  },
  "language_info": {
   "codemirror_mode": {
    "name": "ipython",
    "version": 3
   },
   "file_extension": ".py",
   "mimetype": "text/x-python",
   "name": "python",
   "nbconvert_exporter": "python",
   "pygments_lexer": "ipython3",
   "version": "3.6.0"
  }
 },
 "nbformat": 4,
 "nbformat_minor": 2
}
