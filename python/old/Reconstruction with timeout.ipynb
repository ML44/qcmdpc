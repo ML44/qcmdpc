{
 "cells": [
  {
   "cell_type": "code",
   "execution_count": 1,
   "metadata": {
    "collapsed": true
   },
   "outputs": [],
   "source": [
    "import multiprocessing\n",
    "import time"
   ]
  },
  {
   "cell_type": "code",
   "execution_count": 19,
   "metadata": {
    "collapsed": false
   },
   "outputs": [],
   "source": [
    "def test(n):\n",
    "    import random\n",
    "    r = random.randint(0,50)\n",
    "    print(\"Essai \"+str(n)+\" : tirage = \"+str(r))\n",
    "    time.sleep(r)\n",
    "    print(\"OK!\")\n",
    "    return(\"SECRET\")"
   ]
  },
  {
   "cell_type": "code",
   "execution_count": 23,
   "metadata": {
    "collapsed": false
   },
   "outputs": [],
   "source": [
    "def aux(i):\n",
    "    # Start bar as a process\n",
    "    p = multiprocessing.Process(target=test, args=(i,))\n",
    "    p.start()\n",
    "    # Wait for 10 seconds or until process finishes\n",
    "    s = p.join(10)\n",
    "    # If thread is still active\n",
    "    if p.is_alive():\n",
    "        # Terminate\n",
    "        p.terminate()\n",
    "        p.join()\n",
    "        aux(i+1)\n",
    "    print(s)"
   ]
  },
  {
   "cell_type": "code",
   "execution_count": 24,
   "metadata": {
    "collapsed": true
   },
   "outputs": [],
   "source": [
    "def main():\n",
    "    aux(1)"
   ]
  },
  {
   "cell_type": "code",
   "execution_count": 25,
   "metadata": {
    "collapsed": false
   },
   "outputs": [
    {
     "name": "stdout",
     "output_type": "stream",
     "text": [
      "Essai 1 : tirage = 30\n",
      "Essai 2 : tirage = 17\n",
      "Essai 3 : tirage = 41\n",
      "Essai 4 : tirage = 36\n",
      "Essai 5 : tirage = 28\n",
      "Essai 6 : tirage = 46\n",
      "Essai 7 : tirage = 35\n",
      "Essai 8 : tirage = 23\n",
      "Essai 9 : tirage = 27\n",
      "Essai 10 : tirage = 8\n",
      "OK!\n",
      "None\n",
      "None\n",
      "None\n",
      "None\n",
      "None\n",
      "None\n",
      "None\n",
      "None\n",
      "None\n",
      "None\n"
     ]
    }
   ],
   "source": [
    "main()"
   ]
  },
  {
   "cell_type": "code",
   "execution_count": 26,
   "metadata": {
    "collapsed": true
   },
   "outputs": [],
   "source": [
    "#Comment recuperer la sortie ? Echanges de messagese ?"
   ]
  },
  {
   "cell_type": "code",
   "execution_count": null,
   "metadata": {
    "collapsed": true
   },
   "outputs": [],
   "source": []
  }
 ],
 "metadata": {
  "kernelspec": {
   "display_name": "Python 3",
   "language": "python",
   "name": "python3"
  },
  "language_info": {
   "codemirror_mode": {
    "name": "ipython",
    "version": 3
   },
   "file_extension": ".py",
   "mimetype": "text/x-python",
   "name": "python",
   "nbconvert_exporter": "python",
   "pygments_lexer": "ipython3",
   "version": "3.6.0"
  }
 },
 "nbformat": 4,
 "nbformat_minor": 2
}
